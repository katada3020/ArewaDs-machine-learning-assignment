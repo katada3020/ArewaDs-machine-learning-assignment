{
 "cells": [
  {
   "cell_type": "code",
   "execution_count": 32,
   "metadata": {},
   "outputs": [
    {
     "name": "stdout",
     "output_type": "stream",
     "text": [
      "Hello, I am Marvin, your friendly bot.\n",
      "You can end this chat by typing 'bye'\n"
     ]
    },
    {
     "name": "stdout",
     "output_type": "stream",
     "text": [
      "It was nice talking to you, goodbye!\n"
     ]
    }
   ],
   "source": [
    "import random\n",
    "from textblob import TextBlob\n",
    "from textblob.np_extractors import ConllExtractor\n",
    "\n",
    "extractors = ConllExtractor()\n",
    "\n",
    "\n",
    "def analyze_sentiment(text):\n",
    "    blob = TextBlob(text, np_extractor=extractors)\n",
    "    return blob.sentiment.polarity\n",
    "\n",
    "def chat():\n",
    "    print(\"Hello, I am Marvin, your friendly bot.\")\n",
    "    print(\"You can end this chat by typing 'bye'\")\n",
    "\n",
    "    while True:\n",
    "        user_input = input(\"> \")\n",
    "\n",
    "        if user_input== \"bye\":\n",
    "            print(\"It was nice talking to you, goodbye!\")\n",
    "            break\n",
    "\n",
    "        user_input_blob = TextBlob(user_input, np_extractor=extractors)\n",
    "        polarity = user_input_blob.polarity\n",
    "\n",
    "        if polarity <= -0.5:\n",
    "            response = \"Oh dear, that sounds bad.\"\n",
    "        elif polarity <= 0:\n",
    "            response = \"Hmm, that's not great.\"\n",
    "        elif polarity <= 0.5:\n",
    "            response = \"Well, that sounds positive.\"\n",
    "        elif polarity <= 1:\n",
    "            response = \"Wow, that sounds great.\"\n",
    "        else:\n",
    "            response = \"I see.\"\n",
    "\n",
    "        random_response = random.choice(random_responses)\n",
    "        print(response, random_response)\n",
    "\n",
    "chat()\n"
   ]
  }
 ],
 "metadata": {
  "kernelspec": {
   "display_name": "Python 3",
   "language": "python",
   "name": "python3"
  },
  "language_info": {
   "codemirror_mode": {
    "name": "ipython",
    "version": 3
   },
   "file_extension": ".py",
   "mimetype": "text/x-python",
   "name": "python",
   "nbconvert_exporter": "python",
   "pygments_lexer": "ipython3",
   "version": "3.8.16"
  },
  "orig_nbformat": 4
 },
 "nbformat": 4,
 "nbformat_minor": 2
}
