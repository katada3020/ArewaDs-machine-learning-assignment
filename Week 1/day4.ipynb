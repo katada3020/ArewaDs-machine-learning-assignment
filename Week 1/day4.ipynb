{
 "cells": [
  {
   "cell_type": "markdown",
   "id": "9a1afc2d",
   "metadata": {},
   "source": [
    "We learn about features in machine learning ,the techniques of machine learning. We understood how to know when our model is underfit or overfit"
   ]
  }
 ],
 "metadata": {
  "kernelspec": {
   "display_name": "Python 3 (ipykernel)",
   "language": "python",
   "name": "python3"
  },
  "language_info": {
   "codemirror_mode": {
    "name": "ipython",
    "version": 3
   },
   "file_extension": ".py",
   "mimetype": "text/x-python",
   "name": "python",
   "nbconvert_exporter": "python",
   "pygments_lexer": "ipython3",
   "version": "3.9.7"
  }
 },
 "nbformat": 4,
 "nbformat_minor": 5
}
