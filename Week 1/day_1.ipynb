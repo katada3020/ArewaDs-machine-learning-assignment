{
 "cells": [
  {
   "cell_type": "markdown",
   "id": "34d79355",
   "metadata": {},
   "source": [
    "We learn how to set our environment and revised our knowledge on Python before we were introduced into machine learning\n",
    "Machine learning is a field of study that gives computers the ability to learn without being heavily programmed"
   ]
  },
  {
   "cell_type": "markdown",
   "id": "911176bd",
   "metadata": {},
   "source": [
    "We learn how to set our environment and revised our knowledge on Python before we were introduced into machine learning\n",
    "Machine learning is a field of study that gives computers the ability to learn without being heavily programmed"
   ]
  },
  {
   "cell_type": "markdown",
   "id": "8b4d0c76",
   "metadata": {},
   "source": [
    "We learn how to set our environment and revised our knowledge on Python before we were introduced into machine learning\n",
    "Machine learning is a field of study that gives computers the ability to learn without being heavily programmed"
   ]
  }
 ],
 "metadata": {
  "kernelspec": {
   "display_name": "Python 3 (ipykernel)",
   "language": "python",
   "name": "python3"
  },
  "language_info": {
   "codemirror_mode": {
    "name": "ipython",
    "version": 3
   },
   "file_extension": ".py",
   "mimetype": "text/x-python",
   "name": "python",
   "nbconvert_exporter": "python",
   "pygments_lexer": "ipython3",
   "version": "3.9.7"
  }
 },
 "nbformat": 4,
 "nbformat_minor": 5
}
